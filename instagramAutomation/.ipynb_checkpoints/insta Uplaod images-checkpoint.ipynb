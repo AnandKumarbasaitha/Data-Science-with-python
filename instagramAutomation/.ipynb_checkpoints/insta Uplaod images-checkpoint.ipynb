{
 "cells": [
  {
   "cell_type": "code",
   "execution_count": 1,
   "metadata": {},
   "outputs": [],
   "source": [
    "from uiautomator import device as d\n",
    "from uiautomator import Device\n",
    "from time import sleep\n",
    "import os"
   ]
  },
  {
   "cell_type": "code",
   "execution_count": 2,
   "metadata": {},
   "outputs": [
    {
     "data": {
      "text/plain": [
       "{'currentPackageName': 'com.sec.android.app.launcher',\n",
       " 'displayHeight': 2058,\n",
       " 'displayRotation': 0,\n",
       " 'displaySizeDpX': 320,\n",
       " 'displaySizeDpY': 658,\n",
       " 'displayWidth': 1080,\n",
       " 'productName': 'starqlteue',\n",
       " 'screenOn': True,\n",
       " 'sdkInt': 29,\n",
       " 'naturalOrientation': True}"
      ]
     },
     "execution_count": 2,
     "metadata": {},
     "output_type": "execute_result"
    }
   ],
   "source": [
    "d.info"
   ]
  },
  {
   "cell_type": "code",
   "execution_count": 3,
   "metadata": {},
   "outputs": [
    {
     "data": {
      "text/plain": [
       "{'currentPackageName': 'com.sec.android.app.launcher',\n",
       " 'displayHeight': 2058,\n",
       " 'displayRotation': 0,\n",
       " 'displaySizeDpX': 320,\n",
       " 'displaySizeDpY': 658,\n",
       " 'displayWidth': 1080,\n",
       " 'productName': 'starqlteue',\n",
       " 'screenOn': True,\n",
       " 'sdkInt': 29,\n",
       " 'naturalOrientation': True}"
      ]
     },
     "execution_count": 3,
     "metadata": {},
     "output_type": "execute_result"
    }
   ],
   "source": [
    "d.infod = Device('375637504c583398')\n",
    "\n",
    "d.info"
   ]
  },
  {
   "cell_type": "code",
   "execution_count": 4,
   "metadata": {},
   "outputs": [
    {
     "data": {
      "text/plain": [
       "'<?xml version=\"1.0\" ?>\\n<hierarchy rotation=\"0\">\\n  <node bounds=\"[0,0][1080,2058]\" checkable=\"false\" checked=\"false\" class=\"android.widget.FrameLayout\" clickable=\"false\" content-desc=\"\" enabled=\"true\" focusable=\"false\" focused=\"false\" index=\"0\" long-clickable=\"false\" package=\"com.sec.android.app.launcher\" password=\"false\" resource-id=\"\" scrollable=\"false\" selected=\"false\" text=\"\">\\n    <node bounds=\"[0,0][1080,2058]\" checkable=\"false\" checked=\"false\" class=\"android.widget.LinearLayout\" clickable=\"false\" content-desc=\"\" enabled=\"true\" focusable=\"false\" focused=\"false\" index=\"0\" long-clickable=\"false\" package=\"com.sec.android.app.launcher\" password=\"false\" resource-id=\"\" scrollable=\"false\" selected=\"false\" text=\"\">\\n      <node bounds=\"[0,0][1080,2058]\" checkable=\"false\" checked=\"false\" class=\"android.widget.FrameLayout\" clickable=\"false\" content-desc=\"\" enabled=\"true\" focusable=\"false\" focused=\"false\" index=\"0\" long-clickable=\"false\" package=\"com.sec.android.app.launcher\" password=\"false\" resource-id=\"android:id/content\" scrollable=\"false\" selected=\"false\" text=\"\">\\n        <node bounds=\"[0,0][1080,2058]\" checkable=\"false\" checked=\"false\" class=\"android.widget.FrameLayout\" clickable=\"false\" content-desc=\"\" enabled=\"true\" focusable=\"false\" focused=\"false\" index=\"0\" long-clickable=\"false\" package=\"com.sec.android.app.launcher\" password=\"false\" resource-id=\"com.sec.android.app.launcher:id/launcher\" scrollable=\"false\" selected=\"false\" text=\"\">\\n          <node bounds=\"[0,0][1080,2058]\" checkable=\"false\" checked=\"false\" class=\"android.view.View\" clickable=\"false\" content-desc=\"\" enabled=\"true\" focusable=\"false\" focused=\"false\" index=\"0\" long-clickable=\"false\" package=\"com.sec.android.app.launcher\" password=\"false\" resource-id=\"com.sec.android.app.launcher:id/scrim_view\" scrollable=\"false\" selected=\"false\" text=\"\"/>\\n          <node bounds=\"[0,0][1080,2058]\" checkable=\"false\" checked=\"false\" class=\"android.widget.FrameLayout\" clickable=\"false\" content-desc=\"\" enabled=\"true\" focusable=\"false\" focused=\"false\" index=\"1\" long-clickable=\"false\" package=\"com.sec.android.app.launcher\" password=\"false\" resource-id=\"com.sec.android.app.launcher:id/drag_layer\" scrollable=\"false\" selected=\"false\" text=\"\">\\n            <node bounds=\"[0,0][1080,2058]\" checkable=\"false\" checked=\"false\" class=\"com.android.launcher3.PagedView\" clickable=\"false\" content-desc=\"\" enabled=\"true\" focusable=\"false\" focused=\"false\" index=\"0\" long-clickable=\"false\" package=\"com.sec.android.app.launcher\" password=\"false\" resource-id=\"com.sec.android.app.launcher:id/workspace\" scrollable=\"true\" selected=\"false\" text=\"\">\\n              <node bounds=\"[24,140][1056,1775]\" checkable=\"false\" checked=\"false\" class=\"android.view.ViewGroup\" clickable=\"true\" content-desc=\"\" enabled=\"true\" focusable=\"false\" focused=\"false\" index=\"0\" long-clickable=\"true\" package=\"com.sec.android.app.launcher\" password=\"false\" resource-id=\"\" scrollable=\"false\" selected=\"false\" text=\"\">\\n                <node bounds=\"[40,154][1040,1761]\" checkable=\"false\" checked=\"false\" class=\"android.view.ViewGroup\" clickable=\"false\" content-desc=\"\" enabled=\"true\" focusable=\"false\" focused=\"false\" index=\"0\" long-clickable=\"false\" package=\"com.sec.android.app.launcher\" password=\"false\" resource-id=\"\" scrollable=\"false\" selected=\"false\" text=\"\">\\n                  <node bounds=\"[844,154][1040,472]\" checkable=\"false\" checked=\"false\" class=\"android.widget.TextView\" clickable=\"true\" content-desc=\"How to Improve Your Sales Skills, Even If You’re Not a Salesperson\" enabled=\"true\" focusable=\"true\" focused=\"false\" index=\"0\" long-clickable=\"true\" package=\"com.sec.android.app.launcher\" password=\"false\" resource-id=\"com.sec.android.app.launcher:id/home_icon\" scrollable=\"false\" selected=\"false\" text=\"How to Improve Your Sales Skills, Even If You’re Not a Salesperson\"/>\\n                  <node bounds=\"[844,476][1040,794]\" checkable=\"false\" checked=\"false\" class=\"android.widget.TextView\" clickable=\"true\" content-desc=\"6 Questions to Ask Before Launching a Moon Shot Project\" enabled=\"true\" focusable=\"true\" focused=\"false\" index=\"1\" long-clickable=\"true\" package=\"com.sec.android.app.launcher\" password=\"false\" resource-id=\"com.sec.android.app.launcher:id/home_icon\" scrollable=\"false\" selected=\"false\" text=\"6 Questions to Ask Before Launching a Moon Shot Project\"/>\\n                  <node bounds=\"[40,798][1040,1116]\" checkable=\"false\" checked=\"false\" class=\"android.appwidget.AppWidgetHostView\" clickable=\"false\" content-desc=\"Search\" enabled=\"true\" focusable=\"true\" focused=\"false\" index=\"2\" long-clickable=\"true\" package=\"com.sec.android.app.launcher\" password=\"false\" resource-id=\"\" scrollable=\"false\" selected=\"false\" text=\"\">\\n                    <node bounds=\"[51,872][1029,1041]\" checkable=\"false\" checked=\"false\" class=\"android.widget.FrameLayout\" clickable=\"false\" content-desc=\"\" enabled=\"true\" focusable=\"false\" focused=\"false\" index=\"0\" long-clickable=\"false\" package=\"com.google.android.googlequicksearchbox\" password=\"false\" resource-id=\"com.google.android.googlequicksearchbox:id/default_search_widget\" scrollable=\"false\" selected=\"false\" text=\"\">\\n                      <node bounds=\"[71,892][1009,1021]\" checkable=\"false\" checked=\"false\" class=\"android.widget.FrameLayout\" clickable=\"false\" content-desc=\"\" enabled=\"true\" focusable=\"false\" focused=\"false\" index=\"0\" long-clickable=\"false\" package=\"com.google.android.googlequicksearchbox\" password=\"false\" resource-id=\"com.google.android.googlequicksearchbox:id/search_plate_container\" scrollable=\"false\" selected=\"false\" text=\"\">\\n                        <node bounds=\"[71,892][1009,1021]\" checkable=\"false\" checked=\"false\" class=\"android.widget.ImageView\" clickable=\"false\" content-desc=\"\" enabled=\"true\" focusable=\"false\" focused=\"false\" index=\"0\" long-clickable=\"false\" package=\"com.google.android.googlequicksearchbox\" password=\"false\" resource-id=\"com.google.android.googlequicksearchbox:id/search_widget_background_protection\" scrollable=\"false\" selected=\"false\" text=\"\"/>\\n                        <node bounds=\"[71,892][1009,1021]\" checkable=\"false\" checked=\"false\" class=\"android.widget.ImageView\" clickable=\"false\" content-desc=\"\" enabled=\"true\" focusable=\"false\" focused=\"false\" index=\"1\" long-clickable=\"false\" package=\"com.google.android.googlequicksearchbox\" password=\"false\" resource-id=\"com.google.android.googlequicksearchbox:id/search_widget_background\" scrollable=\"false\" selected=\"false\" text=\"\"/>\\n                        <node bounds=\"[71,892][1009,1021]\" checkable=\"false\" checked=\"false\" class=\"android.widget.LinearLayout\" clickable=\"false\" content-desc=\"\" enabled=\"true\" focusable=\"false\" focused=\"false\" index=\"2\" long-clickable=\"false\" package=\"com.google.android.googlequicksearchbox\" password=\"false\" resource-id=\"com.google.android.googlequicksearchbox:id/search_plate\" scrollable=\"false\" selected=\"false\" text=\"\">\\n                          <node bounds=\"[71,892][198,1021]\" checkable=\"false\" checked=\"false\" class=\"android.widget.FrameLayout\" clickable=\"true\" content-desc=\"Go to Discover\" enabled=\"true\" focusable=\"true\" focused=\"false\" index=\"0\" long-clickable=\"false\" package=\"com.google.android.googlequicksearchbox\" password=\"false\" resource-id=\"com.google.android.googlequicksearchbox:id/search_widget_google_logo\" scrollable=\"false\" selected=\"false\" text=\"\">\\n                            <node bounds=\"[71,892][198,1021]\" checkable=\"false\" checked=\"false\" class=\"android.widget.ImageView\" clickable=\"false\" content-desc=\"\" enabled=\"true\" focusable=\"false\" focused=\"false\" index=\"0\" long-clickable=\"false\" package=\"com.google.android.googlequicksearchbox\" password=\"false\" resource-id=\"com.google.android.googlequicksearchbox:id/search_widget_super_g\" scrollable=\"false\" selected=\"false\" text=\"\"/>\\n                          </node>\\n                          <node bounds=\"[198,892][860,1021]\" checkable=\"false\" checked=\"false\" class=\"android.widget.FrameLayout\" clickable=\"true\" content-desc=\"Google search\" enabled=\"true\" focusable=\"true\" focused=\"false\" index=\"1\" long-clickable=\"false\" package=\"com.google.android.googlequicksearchbox\" password=\"false\" resource-id=\"com.google.android.googlequicksearchbox:id/search_edit_frame\" scrollable=\"false\" selected=\"false\" text=\"\">\\n                            <node bounds=\"[198,892][860,1021]\" checkable=\"false\" checked=\"false\" class=\"android.widget.ViewFlipper\" clickable=\"false\" content-desc=\"\" enabled=\"true\" focusable=\"false\" focused=\"false\" index=\"0\" long-clickable=\"false\" package=\"com.google.android.googlequicksearchbox\" password=\"false\" resource-id=\"com.google.android.googlequicksearchbox:id/hint_flipper\" scrollable=\"false\" selected=\"false\" text=\"\">\\n                              <node bounds=\"[198,892][860,1021]\" checkable=\"false\" checked=\"false\" class=\"android.widget.LinearLayout\" clickable=\"false\" content-desc=\"\" enabled=\"true\" focusable=\"false\" focused=\"false\" index=\"0\" long-clickable=\"false\" package=\"com.google.android.googlequicksearchbox\" password=\"false\" resource-id=\"com.google.android.googlequicksearchbox:id/hint_text_alignment\" scrollable=\"false\" selected=\"false\" text=\"\">\\n                                <node bounds=\"[545,892][860,1021]\" checkable=\"false\" checked=\"false\" class=\"android.widget.TextView\" clickable=\"false\" content-desc=\"\" enabled=\"true\" focusable=\"false\" focused=\"false\" index=\"0\" long-clickable=\"false\" package=\"com.google.android.googlequicksearchbox\" password=\"false\" resource-id=\"com.google.android.googlequicksearchbox:id/search_widget_voice_hint\" scrollable=\"false\" selected=\"false\" text=\"Say &quot;Hey Google&quot;\"/>\\n                              </node>\\n                            </node>\\n                          </node>\\n                          <node bounds=\"[860,892][1009,1021]\" checkable=\"false\" checked=\"false\" class=\"android.widget.ImageButton\" clickable=\"true\" content-desc=\"Voice Search\" enabled=\"true\" focusable=\"true\" focused=\"false\" index=\"2\" long-clickable=\"false\" package=\"com.google.android.googlequicksearchbox\" password=\"false\" resource-id=\"com.google.android.googlequicksearchbox:id/search_widget_voice_btn\" scrollable=\"false\" selected=\"false\" text=\"\"/>\\n                        </node>\\n                      </node>\\n                    </node>\\n                  </node>\\n                  <node bounds=\"[844,1442][1040,1760]\" checkable=\"false\" checked=\"false\" class=\"android.widget.TextView\" clickable=\"true\" content-desc=\"Google\" enabled=\"true\" focusable=\"true\" focused=\"false\" index=\"3\" long-clickable=\"true\" package=\"com.sec.android.app.launcher\" password=\"false\" resource-id=\"com.sec.android.app.launcher:id/home_icon\" scrollable=\"false\" selected=\"false\" text=\"Google\"/>\\n                </node>\\n              </node>\\n            </node>\\n            <node bounds=\"[0,1766][1080,1817]\" checkable=\"false\" checked=\"false\" class=\"android.widget.LinearLayout\" clickable=\"false\" content-desc=\"\" enabled=\"true\" focusable=\"false\" focused=\"false\" index=\"1\" long-clickable=\"false\" package=\"com.sec.android.app.launcher\" password=\"false\" resource-id=\"com.sec.android.app.launcher:id/page_indicator\" scrollable=\"false\" selected=\"false\" text=\"\">\\n              <node bounds=\"[457,1766][512,1817]\" checkable=\"false\" checked=\"false\" class=\"android.widget.FrameLayout\" clickable=\"true\" content-desc=\"Page 1 of 3, Default page\" enabled=\"true\" focusable=\"false\" focused=\"false\" index=\"0\" long-clickable=\"false\" package=\"com.sec.android.app.launcher\" password=\"false\" resource-id=\"\" scrollable=\"false\" selected=\"false\" text=\"\">\\n                <node bounds=\"[459,1766][510,1817]\" checkable=\"false\" checked=\"false\" class=\"android.widget.ImageView\" clickable=\"false\" content-desc=\"\" enabled=\"true\" focusable=\"false\" focused=\"false\" index=\"1\" long-clickable=\"false\" package=\"com.sec.android.app.launcher\" password=\"false\" resource-id=\"com.sec.android.app.launcher:id/active\" scrollable=\"false\" selected=\"false\" text=\"\"/>\\n              </node>\\n              <node bounds=\"[512,1766][567,1817]\" checkable=\"false\" checked=\"false\" class=\"android.widget.FrameLayout\" clickable=\"true\" content-desc=\"Page 2 of 3\" enabled=\"true\" focusable=\"false\" focused=\"false\" index=\"1\" long-clickable=\"false\" package=\"com.sec.android.app.launcher\" password=\"false\" resource-id=\"\" scrollable=\"false\" selected=\"false\" text=\"\">\\n                <node bounds=\"[514,1766][565,1817]\" checkable=\"false\" checked=\"false\" class=\"android.widget.ImageView\" clickable=\"false\" content-desc=\"\" enabled=\"true\" focusable=\"false\" focused=\"false\" index=\"0\" long-clickable=\"false\" package=\"com.sec.android.app.launcher\" password=\"false\" resource-id=\"com.sec.android.app.launcher:id/inactive\" scrollable=\"false\" selected=\"false\" text=\"\"/>\\n              </node>\\n              <node bounds=\"[567,1766][622,1817]\" checkable=\"false\" checked=\"false\" class=\"android.widget.FrameLayout\" clickable=\"true\" content-desc=\"Page 3 of 3, Current page is last page.\" enabled=\"true\" focusable=\"false\" focused=\"false\" index=\"2\" long-clickable=\"false\" package=\"com.sec.android.app.launcher\" password=\"false\" resource-id=\"\" scrollable=\"false\" selected=\"false\" text=\"\">\\n                <node bounds=\"[569,1766][620,1817]\" checkable=\"false\" checked=\"false\" class=\"android.widget.ImageView\" clickable=\"false\" content-desc=\"\" enabled=\"true\" focusable=\"false\" focused=\"false\" index=\"0\" long-clickable=\"false\" package=\"com.sec.android.app.launcher\" password=\"false\" resource-id=\"com.sec.android.app.launcher:id/inactive\" scrollable=\"false\" selected=\"false\" text=\"\"/>\\n              </node>\\n            </node>\\n            <node bounds=\"[0,1822][1080,2058]\" checkable=\"false\" checked=\"false\" class=\"android.view.ViewGroup\" clickable=\"false\" content-desc=\"\" enabled=\"true\" focusable=\"false\" focused=\"false\" index=\"2\" long-clickable=\"false\" package=\"com.sec.android.app.launcher\" password=\"false\" resource-id=\"com.sec.android.app.launcher:id/hotseat\" scrollable=\"false\" selected=\"false\" text=\"\">\\n              <node bounds=\"[38,1822][1042,2058]\" checkable=\"false\" checked=\"false\" class=\"android.view.ViewGroup\" clickable=\"false\" content-desc=\"\" enabled=\"true\" focusable=\"false\" focused=\"false\" index=\"0\" long-clickable=\"false\" package=\"com.sec.android.app.launcher\" password=\"false\" resource-id=\"\" scrollable=\"false\" selected=\"false\" text=\"\">\\n                <node bounds=\"[38,1822][234,2058]\" checkable=\"false\" checked=\"false\" class=\"android.widget.TextView\" clickable=\"true\" content-desc=\"Phone\" enabled=\"true\" focusable=\"true\" focused=\"false\" index=\"0\" long-clickable=\"true\" package=\"com.sec.android.app.launcher\" password=\"false\" resource-id=\"com.sec.android.app.launcher:id/hotseat_icon\" scrollable=\"false\" selected=\"false\" text=\"Phone\"/>\\n                <node bounds=\"[239,1822][435,2058]\" checkable=\"false\" checked=\"false\" class=\"android.widget.TextView\" clickable=\"true\" content-desc=\"Messages\" enabled=\"true\" focusable=\"true\" focused=\"false\" index=\"1\" long-clickable=\"true\" package=\"com.sec.android.app.launcher\" password=\"false\" resource-id=\"com.sec.android.app.launcher:id/hotseat_icon\" scrollable=\"false\" selected=\"false\" text=\"Messages\"/>\\n                <node bounds=\"[440,1822][636,2058]\" checkable=\"false\" checked=\"false\" class=\"android.widget.TextView\" clickable=\"true\" content-desc=\"News\" enabled=\"true\" focusable=\"true\" focused=\"false\" index=\"2\" long-clickable=\"true\" package=\"com.sec.android.app.launcher\" password=\"false\" resource-id=\"com.sec.android.app.launcher:id/hotseat_icon\" scrollable=\"false\" selected=\"false\" text=\"News\"/>\\n                <node bounds=\"[641,1822][837,2058]\" checkable=\"false\" checked=\"false\" class=\"android.widget.TextView\" clickable=\"true\" content-desc=\"Maps\" enabled=\"true\" focusable=\"true\" focused=\"false\" index=\"3\" long-clickable=\"true\" package=\"com.sec.android.app.launcher\" password=\"false\" resource-id=\"com.sec.android.app.launcher:id/hotseat_icon\" scrollable=\"false\" selected=\"false\" text=\"Maps\"/>\\n                <node bounds=\"[842,1822][1038,2058]\" checkable=\"false\" checked=\"false\" class=\"android.widget.TextView\" clickable=\"true\" content-desc=\"Camera\" enabled=\"true\" focusable=\"true\" focused=\"false\" index=\"4\" long-clickable=\"true\" package=\"com.sec.android.app.launcher\" password=\"false\" resource-id=\"com.sec.android.app.launcher:id/hotseat_icon\" scrollable=\"false\" selected=\"false\" text=\"Camera\"/>\\n              </node>\\n            </node>\\n          </node>\\n        </node>\\n      </node>\\n    </node>\\n  </node>\\n</hierarchy>\\n'"
      ]
     },
     "execution_count": 4,
     "metadata": {},
     "output_type": "execute_result"
    }
   ],
   "source": [
    "# d.dump('someHier.xml')"
   ]
  },
  {
   "cell_type": "code",
   "execution_count": null,
   "metadata": {},
   "outputs": [],
   "source": [
    "d.press.home()\n",
    "sx, sy, ex, ey= 100 ,150,100,450\n",
    "d.swipe(sx, sy, ex, ey, steps=5)"
   ]
  },
  {
   "cell_type": "code",
   "execution_count": null,
   "metadata": {},
   "outputs": [],
   "source": [
    "instaVal=d(text='Gallery', className='android.widget.TextView')\n",
    "instaVal.click()"
   ]
  },
  {
   "cell_type": "code",
   "execution_count": null,
   "metadata": {},
   "outputs": [],
   "source": [
    "sx, sy, ex, ey= 560,800,560 ,150\n",
    "d.swipe(sx, sy, ex, ey, steps=10)"
   ]
  },
  {
   "cell_type": "code",
   "execution_count": null,
   "metadata": {},
   "outputs": [],
   "source": [
    "pp=d(className='android.widget.TextView',text='Downloads')#,index=\"2\")\n",
    "pp.click()"
   ]
  },
  {
   "cell_type": "code",
   "execution_count": null,
   "metadata": {},
   "outputs": [],
   "source": [
    "nextInd=str(3)"
   ]
  },
  {
   "cell_type": "code",
   "execution_count": null,
   "metadata": {},
   "outputs": [],
   "source": [
    "pp=d(className='android.widget.FrameLayout',resourceId=\"com.sec.android.gallery3d:id/recycler_view_item\",index=nextInd)#,index=\"2\")\n",
    "pp.click()"
   ]
  },
  {
   "cell_type": "code",
   "execution_count": null,
   "metadata": {},
   "outputs": [],
   "source": [
    "# d.screenshot('saveIMage.png')\n",
    "pp=d(className='android.widget.RelativeLayout',resourceId='com.sec.android.gallery3d:id/btn_share')#,index=\"2\")\n",
    "pp.click()"
   ]
  },
  {
   "cell_type": "code",
   "execution_count": null,
   "metadata": {},
   "outputs": [],
   "source": [
    "pp=d(className='android.widget.TextView',text='Feed')#,index=\"2\")\n",
    "pp.click()"
   ]
  },
  {
   "cell_type": "code",
   "execution_count": null,
   "metadata": {},
   "outputs": [],
   "source": [
    "pp=d(className='android.widget.ImageView',resourceId='com.instagram.android:id/croptype_toggle_button')#,index=\"2\")\n",
    "pp.click()"
   ]
  },
  {
   "cell_type": "code",
   "execution_count": null,
   "metadata": {},
   "outputs": [],
   "source": [
    "pp=d(className='android.widget.ImageView',resourceId='com.instagram.android:id/save')#,index=\"2\")\n",
    "pp.click()"
   ]
  },
  {
   "cell_type": "code",
   "execution_count": null,
   "metadata": {},
   "outputs": [],
   "source": [
    "pp=d(className='android.widget.TextView',text='Next')#,index=\"2\")\n",
    "pp.click()"
   ]
  },
  {
   "cell_type": "code",
   "execution_count": null,
   "metadata": {},
   "outputs": [],
   "source": [
    "pp=d(className='android.widget.EditText')#,index=\"2\")\n",
    "pp.click()"
   ]
  },
  {
   "cell_type": "code",
   "execution_count": null,
   "metadata": {},
   "outputs": [],
   "source": [
    "textData='#Jaguar #Jaguars #jaguarftype #jaguarEtype #jaguarcars #jaguarfpace #jaguarxf #JaguarXJ #Jaguariuna #jaguarrussia #JaguarXE #jaguarusa #jaguarftypes #jaguarclub #jaguarclassic #jaguarftyper #jaguarxk #JaguarXJS #jaguarlife #jaguarlandrover #jaguarexperience #jaguarftypesvr #jaguarnation #jaguarpalmbeach #Jaguares #jaguarxkr #jaguarfans #jaguarsvr #jaguarundi #jaguarstyle'"
   ]
  },
  {
   "cell_type": "code",
   "execution_count": null,
   "metadata": {},
   "outputs": [],
   "source": [
    "pp.set_text('Jaguar from the Mysore Zoo. '+textData)"
   ]
  },
  {
   "cell_type": "code",
   "execution_count": null,
   "metadata": {},
   "outputs": [],
   "source": [
    "pp=d(className='android.widget.TextView',text='Share')#,index=\"2\")\n",
    "pp.click()\n",
    "\n",
    "for i in range(2):\n",
    "    d.press.back()"
   ]
  },
  {
   "cell_type": "code",
   "execution_count": null,
   "metadata": {
    "scrolled": true
   },
   "outputs": [],
   "source": []
  },
  {
   "cell_type": "code",
   "execution_count": null,
   "metadata": {},
   "outputs": [],
   "source": []
  },
  {
   "cell_type": "code",
   "execution_count": null,
   "metadata": {},
   "outputs": [],
   "source": []
  },
  {
   "cell_type": "code",
   "execution_count": null,
   "metadata": {},
   "outputs": [],
   "source": []
  },
  {
   "cell_type": "code",
   "execution_count": null,
   "metadata": {},
   "outputs": [],
   "source": []
  },
  {
   "cell_type": "code",
   "execution_count": null,
   "metadata": {},
   "outputs": [],
   "source": []
  },
  {
   "cell_type": "code",
   "execution_count": null,
   "metadata": {},
   "outputs": [],
   "source": []
  },
  {
   "cell_type": "code",
   "execution_count": null,
   "metadata": {},
   "outputs": [],
   "source": []
  }
 ],
 "metadata": {
  "kernelspec": {
   "display_name": "Python 3",
   "language": "python",
   "name": "python3"
  },
  "language_info": {
   "codemirror_mode": {
    "name": "ipython",
    "version": 3
   },
   "file_extension": ".py",
   "mimetype": "text/x-python",
   "name": "python",
   "nbconvert_exporter": "python",
   "pygments_lexer": "ipython3",
   "version": "3.6.9"
  }
 },
 "nbformat": 4,
 "nbformat_minor": 2
}
