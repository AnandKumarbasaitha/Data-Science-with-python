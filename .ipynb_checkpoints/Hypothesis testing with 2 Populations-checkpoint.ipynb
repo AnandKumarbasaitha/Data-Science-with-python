{
 "cells": [
  {
   "cell_type": "markdown",
   "metadata": {},
   "source": [
    "## Statistical Inferences about 2 populations"
   ]
  },
  {
   "cell_type": "markdown",
   "metadata": {},
   "source": [
    "## Usecase \n",
    "- E-commerce analyst\n",
    "- Teacher "
   ]
  },
  {
   "cell_type": "markdown",
   "metadata": {},
   "source": [
    "The problems that can be solved using the approach are:\n",
    "- To estimate the difference between 2 sample mean\n",
    "- Whether ths 2 population samples comes from the same population\n",
    "- To determine whether 1 population is  < > the other population"
   ]
  },
  {
   "cell_type": "markdown",
   "metadata": {},
   "source": [
    "## The central limit theorem"
   ]
  },
  {
   "cell_type": "markdown",
   "metadata": {},
   "source": [
    "The central limit theorem states that the differences in 2 sample mean is normally distributed for larger sample size. Regardles of the population distribution"
   ]
  },
  {
   "cell_type": "markdown",
   "metadata": {},
   "source": [
    "## $$\\mu_(\\bar{x_{1}}-\\bar{x_{2}}) = \\mu_{1}- \\mu_{2}$$  "
   ]
  },
  {
   "cell_type": "markdown",
   "metadata": {},
   "source": [
    "## If the population variance is known, z formula would be"
   ]
  },
  {
   "cell_type": "markdown",
   "metadata": {},
   "source": [
    "## $$z = \\frac{(\\bar{x_{1}}-\\bar{x_{2}})-(\\mu_{1}-\\mu_{2})}{\\sqrt(\\frac{\\sigma^2}{n1}+\\frac{\\sigma^2}{n2})}$$"
   ]
  },
  {
   "cell_type": "markdown",
   "metadata": {},
   "source": [
    "## Hypothesis Formulation"
   ]
  },
  {
   "cell_type": "markdown",
   "metadata": {},
   "source": [
    "Example 1: where the analyst wanted to check whether mean of the 2 category sales are different"
   ]
  },
  {
   "cell_type": "markdown",
   "metadata": {},
   "source": [
    "$$H_{o} => \\mu_{1} = \\mu_{2}$$\n",
    "$$H_{a} => \\mu_{1} \\ne \\mu_{2}$$"
   ]
  },
  {
   "cell_type": "markdown",
   "metadata": {},
   "source": [
    "but the other way to look at this hypothesis through a statistitian "
   ]
  },
  {
   "cell_type": "markdown",
   "metadata": {},
   "source": [
    "$$H_{o} => \\mu_{1} - \\mu_{2} = \\delta$$\n",
    "$$H_{a} => \\mu_{1} - \\mu_{2} \\ne \\delta$$"
   ]
  },
  {
   "cell_type": "markdown",
   "metadata": {},
   "source": [
    "Most of the time analyst would only be interested to know if there is any change or diff"
   ]
  },
  {
   "cell_type": "markdown",
   "metadata": {},
   "source": [
    "$$H_{o} => \\mu_{1} - \\mu_{2} = 0$$   #mean are same\n",
    "$$H_{a} => \\mu_{1} - \\mu_{2} \\ne 0$$  #mean are not same"
   ]
  },
  {
   "cell_type": "markdown",
   "metadata": {},
   "source": [
    "## Confidence Interval"
   ]
  },
  {
   "cell_type": "markdown",
   "metadata": {},
   "source": [
    "But by how much of difference whether positive or negative to get this info we look into confidence interval approach"
   ]
  },
  {
   "cell_type": "markdown",
   "metadata": {},
   "source": [
    "### $$(\\bar{x_{1}}-\\bar{x_{2}}) -z(\\sqrt(\\frac{\\sigma^2}{n1}+\\frac{\\sigma^2}{n2}) \\space\\space\\space \\underline{<} \\mu_{1}-\\mu_{2} \\space\\space\\space\\space \\underline{<} \\space\\space\\space (\\bar{x_{1}}-\\bar{x_{2}}) +z(\\sqrt(\\frac{\\sigma^2}{n1}+\\frac{\\sigma^2}{n2})$$"
   ]
  },
  {
   "cell_type": "markdown",
   "metadata": {},
   "source": [
    "## Examples"
   ]
  },
  {
   "cell_type": "code",
   "execution_count": 1,
   "metadata": {},
   "outputs": [],
   "source": [
    "import pandas as pd\n",
    "import numpy as np"
   ]
  },
  {
   "cell_type": "code",
   "execution_count": 2,
   "metadata": {},
   "outputs": [],
   "source": [
    "data=pd.read_excel(\"Sample - Superstore.xls\")"
   ]
  },
  {
   "cell_type": "code",
   "execution_count": 3,
   "metadata": {},
   "outputs": [
    {
     "data": {
      "text/plain": [
       "Index(['Row ID', 'Order ID', 'Order Date', 'Ship Date', 'Ship Mode',\n",
       "       'Customer ID', 'Customer Name', 'Segment', 'Country', 'City', 'State',\n",
       "       'Postal Code', 'Region', 'Product ID', 'Category', 'Sub-Category',\n",
       "       'Product Name', 'Sales', 'Quantity', 'Discount', 'Profit'],\n",
       "      dtype='object')"
      ]
     },
     "execution_count": 3,
     "metadata": {},
     "output_type": "execute_result"
    }
   ],
   "source": [
    "data.columns"
   ]
  },
  {
   "cell_type": "code",
   "execution_count": 4,
   "metadata": {},
   "outputs": [
    {
     "data": {
      "text/html": [
       "<div>\n",
       "<style scoped>\n",
       "    .dataframe tbody tr th:only-of-type {\n",
       "        vertical-align: middle;\n",
       "    }\n",
       "\n",
       "    .dataframe tbody tr th {\n",
       "        vertical-align: top;\n",
       "    }\n",
       "\n",
       "    .dataframe thead th {\n",
       "        text-align: right;\n",
       "    }\n",
       "</style>\n",
       "<table border=\"1\" class=\"dataframe\">\n",
       "  <thead>\n",
       "    <tr style=\"text-align: right;\">\n",
       "      <th></th>\n",
       "      <th>Sales</th>\n",
       "    </tr>\n",
       "    <tr>\n",
       "      <th>Sub-Category</th>\n",
       "      <th></th>\n",
       "    </tr>\n",
       "  </thead>\n",
       "  <tbody>\n",
       "    <tr>\n",
       "      <th>Accessories</th>\n",
       "      <td>215.974604</td>\n",
       "    </tr>\n",
       "    <tr>\n",
       "      <th>Appliances</th>\n",
       "      <td>230.755710</td>\n",
       "    </tr>\n",
       "    <tr>\n",
       "      <th>Art</th>\n",
       "      <td>34.068834</td>\n",
       "    </tr>\n",
       "    <tr>\n",
       "      <th>Binders</th>\n",
       "      <td>133.560560</td>\n",
       "    </tr>\n",
       "    <tr>\n",
       "      <th>Bookcases</th>\n",
       "      <td>503.859633</td>\n",
       "    </tr>\n",
       "    <tr>\n",
       "      <th>Chairs</th>\n",
       "      <td>532.332420</td>\n",
       "    </tr>\n",
       "    <tr>\n",
       "      <th>Copiers</th>\n",
       "      <td>2198.941618</td>\n",
       "    </tr>\n",
       "    <tr>\n",
       "      <th>Envelopes</th>\n",
       "      <td>64.867724</td>\n",
       "    </tr>\n",
       "    <tr>\n",
       "      <th>Fasteners</th>\n",
       "      <td>13.936774</td>\n",
       "    </tr>\n",
       "    <tr>\n",
       "      <th>Furnishings</th>\n",
       "      <td>95.825668</td>\n",
       "    </tr>\n",
       "    <tr>\n",
       "      <th>Labels</th>\n",
       "      <td>34.303055</td>\n",
       "    </tr>\n",
       "    <tr>\n",
       "      <th>Machines</th>\n",
       "      <td>1645.553313</td>\n",
       "    </tr>\n",
       "    <tr>\n",
       "      <th>Paper</th>\n",
       "      <td>57.284092</td>\n",
       "    </tr>\n",
       "    <tr>\n",
       "      <th>Phones</th>\n",
       "      <td>371.211534</td>\n",
       "    </tr>\n",
       "    <tr>\n",
       "      <th>Storage</th>\n",
       "      <td>264.590553</td>\n",
       "    </tr>\n",
       "    <tr>\n",
       "      <th>Supplies</th>\n",
       "      <td>245.650200</td>\n",
       "    </tr>\n",
       "    <tr>\n",
       "      <th>Tables</th>\n",
       "      <td>648.794771</td>\n",
       "    </tr>\n",
       "  </tbody>\n",
       "</table>\n",
       "</div>"
      ],
      "text/plain": [
       "                    Sales\n",
       "Sub-Category             \n",
       "Accessories    215.974604\n",
       "Appliances     230.755710\n",
       "Art             34.068834\n",
       "Binders        133.560560\n",
       "Bookcases      503.859633\n",
       "Chairs         532.332420\n",
       "Copiers       2198.941618\n",
       "Envelopes       64.867724\n",
       "Fasteners       13.936774\n",
       "Furnishings     95.825668\n",
       "Labels          34.303055\n",
       "Machines      1645.553313\n",
       "Paper           57.284092\n",
       "Phones         371.211534\n",
       "Storage        264.590553\n",
       "Supplies       245.650200\n",
       "Tables         648.794771"
      ]
     },
     "execution_count": 4,
     "metadata": {},
     "output_type": "execute_result"
    }
   ],
   "source": [
    "pd.pivot_table(data,index=['Sub-Category'],values='Sales',aggfunc='mean')"
   ]
  },
  {
   "cell_type": "code",
   "execution_count": 5,
   "metadata": {},
   "outputs": [
    {
     "data": {
      "text/html": [
       "<div>\n",
       "<style scoped>\n",
       "    .dataframe tbody tr th:only-of-type {\n",
       "        vertical-align: middle;\n",
       "    }\n",
       "\n",
       "    .dataframe tbody tr th {\n",
       "        vertical-align: top;\n",
       "    }\n",
       "\n",
       "    .dataframe thead th {\n",
       "        text-align: right;\n",
       "    }\n",
       "</style>\n",
       "<table border=\"1\" class=\"dataframe\">\n",
       "  <thead>\n",
       "    <tr style=\"text-align: right;\">\n",
       "      <th></th>\n",
       "      <th>Sales</th>\n",
       "      <th>Profit</th>\n",
       "    </tr>\n",
       "    <tr>\n",
       "      <th>Sub-Category</th>\n",
       "      <th></th>\n",
       "      <th></th>\n",
       "    </tr>\n",
       "  </thead>\n",
       "  <tbody>\n",
       "    <tr>\n",
       "      <th>Accessories</th>\n",
       "      <td>215.974604</td>\n",
       "      <td>775</td>\n",
       "    </tr>\n",
       "    <tr>\n",
       "      <th>Appliances</th>\n",
       "      <td>230.755710</td>\n",
       "      <td>466</td>\n",
       "    </tr>\n",
       "    <tr>\n",
       "      <th>Art</th>\n",
       "      <td>34.068834</td>\n",
       "      <td>796</td>\n",
       "    </tr>\n",
       "    <tr>\n",
       "      <th>Binders</th>\n",
       "      <td>133.560560</td>\n",
       "      <td>1523</td>\n",
       "    </tr>\n",
       "    <tr>\n",
       "      <th>Bookcases</th>\n",
       "      <td>503.859633</td>\n",
       "      <td>228</td>\n",
       "    </tr>\n",
       "    <tr>\n",
       "      <th>Chairs</th>\n",
       "      <td>532.332420</td>\n",
       "      <td>617</td>\n",
       "    </tr>\n",
       "    <tr>\n",
       "      <th>Copiers</th>\n",
       "      <td>2198.941618</td>\n",
       "      <td>68</td>\n",
       "    </tr>\n",
       "    <tr>\n",
       "      <th>Envelopes</th>\n",
       "      <td>64.867724</td>\n",
       "      <td>254</td>\n",
       "    </tr>\n",
       "    <tr>\n",
       "      <th>Fasteners</th>\n",
       "      <td>13.936774</td>\n",
       "      <td>217</td>\n",
       "    </tr>\n",
       "    <tr>\n",
       "      <th>Furnishings</th>\n",
       "      <td>95.825668</td>\n",
       "      <td>957</td>\n",
       "    </tr>\n",
       "    <tr>\n",
       "      <th>Labels</th>\n",
       "      <td>34.303055</td>\n",
       "      <td>364</td>\n",
       "    </tr>\n",
       "    <tr>\n",
       "      <th>Machines</th>\n",
       "      <td>1645.553313</td>\n",
       "      <td>115</td>\n",
       "    </tr>\n",
       "    <tr>\n",
       "      <th>Paper</th>\n",
       "      <td>57.284092</td>\n",
       "      <td>1370</td>\n",
       "    </tr>\n",
       "    <tr>\n",
       "      <th>Phones</th>\n",
       "      <td>371.211534</td>\n",
       "      <td>889</td>\n",
       "    </tr>\n",
       "    <tr>\n",
       "      <th>Storage</th>\n",
       "      <td>264.590553</td>\n",
       "      <td>846</td>\n",
       "    </tr>\n",
       "    <tr>\n",
       "      <th>Supplies</th>\n",
       "      <td>245.650200</td>\n",
       "      <td>190</td>\n",
       "    </tr>\n",
       "    <tr>\n",
       "      <th>Tables</th>\n",
       "      <td>648.794771</td>\n",
       "      <td>319</td>\n",
       "    </tr>\n",
       "  </tbody>\n",
       "</table>\n",
       "</div>"
      ],
      "text/plain": [
       "                    Sales  Profit\n",
       "Sub-Category                     \n",
       "Accessories    215.974604     775\n",
       "Appliances     230.755710     466\n",
       "Art             34.068834     796\n",
       "Binders        133.560560    1523\n",
       "Bookcases      503.859633     228\n",
       "Chairs         532.332420     617\n",
       "Copiers       2198.941618      68\n",
       "Envelopes       64.867724     254\n",
       "Fasteners       13.936774     217\n",
       "Furnishings     95.825668     957\n",
       "Labels          34.303055     364\n",
       "Machines      1645.553313     115\n",
       "Paper           57.284092    1370\n",
       "Phones         371.211534     889\n",
       "Storage        264.590553     846\n",
       "Supplies       245.650200     190\n",
       "Tables         648.794771     319"
      ]
     },
     "execution_count": 5,
     "metadata": {},
     "output_type": "execute_result"
    }
   ],
   "source": [
    "data.groupby('Sub-Category').agg({'Sales':'mean','Profit':'count'})"
   ]
  },
  {
   "cell_type": "code",
   "execution_count": 6,
   "metadata": {
    "scrolled": true
   },
   "outputs": [],
   "source": [
    "appSalesData=data[data['Sub-Category']=='Appliances']['Sales'].values"
   ]
  },
  {
   "cell_type": "code",
   "execution_count": 7,
   "metadata": {},
   "outputs": [],
   "source": [
    "accSalesData=data[data['Sub-Category']=='Accessories']['Sales'].values"
   ]
  },
  {
   "cell_type": "code",
   "execution_count": 8,
   "metadata": {},
   "outputs": [],
   "source": [
    "sampleofAppSalesData=appSalesData[np.argsort(np.random.random_sample(len(appSalesData)))[:70]]"
   ]
  },
  {
   "cell_type": "code",
   "execution_count": 9,
   "metadata": {},
   "outputs": [],
   "source": [
    "sampleofAccSalesData=accSalesData[np.argsort(np.random.random_sample(len(accSalesData)))[:70]]"
   ]
  },
  {
   "cell_type": "code",
   "execution_count": 10,
   "metadata": {},
   "outputs": [
    {
     "data": {
      "text/plain": [
       "array([  75.84 ,   21.78 ,  715.64 ,  671.544,  207.144,   45.96 ,\n",
       "        213.136,   10.98 ,  207.24 ,   58.464,   58.73 ,   58.24 ,\n",
       "         34.848,   37.68 ,  389.056,   81.08 ,   45.96 ,  334.88 ,\n",
       "        378.   ,  245.88 ,  209.3  ,  110.096,   15.224,   60.672,\n",
       "        208.44 ,   61.44 ,   17.48 ,   48.792,   34.384,   61.44 ,\n",
       "         60.34 ,   40.74 ,   56.52 ,   43.32 ,   48.632,    2.394,\n",
       "        208.16 ,   14.016,  235.95 ,  213.92 ,  122.328,    2.334,\n",
       "         20.388,  133.472,  106.96 ,  406.6  ,  250.26 , 1101.48 ,\n",
       "         45.216,  434.352, 1702.12 ,    2.6  ,   25.86 , 1640.7  ,\n",
       "        182.91 ,  361.96 ,  137.62 ,  416.32 ,  179.94 ,   58.24 ,\n",
       "         20.136,   36.27 ,  161.568, 1503.25 ,  146.76 ,  262.24 ,\n",
       "         90.86 ,  203.92 ,   20.768, 2104.55 ])"
      ]
     },
     "execution_count": 10,
     "metadata": {},
     "output_type": "execute_result"
    }
   ],
   "source": [
    "sampleofAppSalesData"
   ]
  },
  {
   "cell_type": "code",
   "execution_count": 11,
   "metadata": {},
   "outputs": [
    {
     "data": {
      "text/plain": [
       "array([  13.98 ,  159.99 ,   23.08 ,  159.56 ,  408.744,   47.984,\n",
       "        167.97 ,  116.312,  389.97 ,  100.   ,  479.97 ,   16.56 ,\n",
       "        102.24 ,   43.56 ,   49.98 ,  399.95 ,   12.12 ,   14.2  ,\n",
       "         66.26 ,   66.3  ,  284.97 ,   44.75 ,  335.944,   47.984,\n",
       "         94.992,   98.16 ,  103.12 ,  239.976,   63.88 ,  357.   ,\n",
       "         47.984,  479.97 ,  772.47 , 3347.37 ,  474.95 ,   89.97 ,\n",
       "        263.88 ,  158.928, 1071.   ,  116.   ,   36.   ,   22.96 ,\n",
       "         29.99 ,   39.   ,  166.16 ,   59.97 ,  114.52 ,   62.85 ,\n",
       "         36.51 ,   89.97 ,  238.   ,  199.98 ,  617.976,   34.8  ,\n",
       "         23.2  ,   95.976,  191.968,  141.9  ,  439.8  ,  199.98 ,\n",
       "        475.944,  826.62 ,   26.176,   30.08 ,   34.95 ,   89.97 ,\n",
       "        101.34 ,  149.95 ,  178.92 ,  447.93 ])"
      ]
     },
     "execution_count": 11,
     "metadata": {},
     "output_type": "execute_result"
    }
   ],
   "source": [
    "sampleofAccSalesData"
   ]
  },
  {
   "cell_type": "markdown",
   "metadata": {},
   "source": [
    "### statistics of 2 example"
   ]
  },
  {
   "cell_type": "markdown",
   "metadata": {},
   "source": [
    "### Steps of hypothesis testing"
   ]
  },
  {
   "cell_type": "markdown",
   "metadata": {},
   "source": [
    "- step 1: create the hypothesis (Null and Alternate Hypothesis)\n",
    "- Step 2: Appropriate statistical test\n",
    "- step 3: let set $\\alpha$ as .001  area of rejection   z score will be two sided test  critical z value 3.09\n",
    "- step 4: Get data\n",
    "- Step 5: Analyze "
   ]
  },
  {
   "cell_type": "markdown",
   "metadata": {},
   "source": [
    "our hypothesis > $$H_{o} => \\mu_{1} - \\mu_{2} = 0$$   \n",
    "$$H_{a} => \\mu_{1} - \\mu_{2} \\ne 0$$  "
   ]
  },
  {
   "cell_type": "code",
   "execution_count": 12,
   "metadata": {},
   "outputs": [],
   "source": [
    "varianceofPopApp=np.var(appSalesData)\n",
    "varianceofPopAcc=np.var(accSalesData)\n",
    "\n",
    "meanOfSampApp=np.mean(sampleofAppSalesData)\n",
    "meanOfSampAcc=np.mean(sampleofAccSalesData)\n",
    "\n",
    "n1=70\n",
    "n2=70"
   ]
  },
  {
   "cell_type": "markdown",
   "metadata": {},
   "source": [
    " $$z = \\frac{(\\bar{x_{1}}-\\bar{x_{2}})-(\\mu_{1}-\\mu_{2})}{\\sqrt(\\frac{\\sigma^2}{n1}+\\frac{\\sigma^2}{n2})}$$"
   ]
  },
  {
   "cell_type": "code",
   "execution_count": 13,
   "metadata": {},
   "outputs": [
    {
     "data": {
      "text/plain": [
       "14.141514285714294"
      ]
     },
     "execution_count": 13,
     "metadata": {},
     "output_type": "execute_result"
    }
   ],
   "source": [
    "import math\n",
    "(meanOfSampApp-meanOfSampAcc) - (0) / (math.sqrt((varianceofPopApp/70)+(varianceofPopAcc/70)))"
   ]
  },
  {
   "cell_type": "markdown",
   "metadata": {},
   "source": [
    "## 16.74 > 3.09 reject the null hypothesis"
   ]
  },
  {
   "cell_type": "markdown",
   "metadata": {},
   "source": [
    "## Confidence interval estimation"
   ]
  },
  {
   "cell_type": "markdown",
   "metadata": {},
   "source": [
    "lets take the same problem but in different perspective"
   ]
  },
  {
   "cell_type": "code",
   "execution_count": 14,
   "metadata": {},
   "outputs": [],
   "source": [
    "z=3.09"
   ]
  },
  {
   "cell_type": "markdown",
   "metadata": {},
   "source": [
    " $$(\\bar{x_{1}}-\\bar{x_{2}}) -z(\\sqrt(\\frac{\\sigma^2}{n1}+\\frac{\\sigma^2}{n2}) \\space\\space\\space \\underline{<} \\mu_{1}-\\mu_{2} \\space\\space\\space\\space \\underline{<} \\space\\space\\space (\\bar{x_{1}}-\\bar{x_{2}}) -z(\\sqrt(\\frac{\\sigma^2}{n1}+\\frac{\\sigma^2}{n2})$$"
   ]
  },
  {
   "cell_type": "code",
   "execution_count": 15,
   "metadata": {},
   "outputs": [
    {
     "data": {
      "text/plain": [
       "'-175.2667256999167 <= mu1 - mu2 <= 203.54975427134528'"
      ]
     },
     "execution_count": 15,
     "metadata": {},
     "output_type": "execute_result"
    }
   ],
   "source": [
    "'{} <= mu1 - mu2 <= {}'.format((meanOfSampApp-meanOfSampAcc)- z*(math.sqrt((varianceofPopApp/70)+(varianceofPopAcc/70))) ,(meanOfSampApp-meanOfSampAcc)+ z*(math.sqrt((varianceofPopApp/70)+(varianceofPopAcc/70))) )"
   ]
  },
  {
   "cell_type": "code",
   "execution_count": 16,
   "metadata": {},
   "outputs": [],
   "source": [
    "z=1.98"
   ]
  },
  {
   "cell_type": "code",
   "execution_count": 17,
   "metadata": {},
   "outputs": [
    {
     "data": {
      "text/plain": [
       "'-107.22687250119489 <= mu1 - mu2 <= 135.50990107262348'"
      ]
     },
     "execution_count": 17,
     "metadata": {},
     "output_type": "execute_result"
    }
   ],
   "source": [
    "'{} <= mu1 - mu2 <= {}'.format((meanOfSampApp-meanOfSampAcc)- z*(math.sqrt((varianceofPopApp/70)+(varianceofPopAcc/70))) ,(meanOfSampApp-meanOfSampAcc)+ z*(math.sqrt((varianceofPopApp/70)+(varianceofPopAcc/70))) )"
   ]
  },
  {
   "cell_type": "markdown",
   "metadata": {},
   "source": [
    "#### the 0 falls in between hence there is a chance to get no difference in the mean of 2 categories"
   ]
  },
  {
   "cell_type": "markdown",
   "metadata": {},
   "source": [
    "## If we do not have info about the Populations"
   ]
  },
  {
   "cell_type": "markdown",
   "metadata": {},
   "source": [
    "## t-Test for inference about 2 populations"
   ]
  },
  {
   "cell_type": "code",
   "execution_count": 18,
   "metadata": {},
   "outputs": [],
   "source": [
    "import scipy.stats as st"
   ]
  },
  {
   "cell_type": "markdown",
   "metadata": {},
   "source": [
    "## st.ttest_ind\n",
    "\n",
    "This is a two-sided test for the null hypothesis that 2 independent samples\n",
    "have identical average (expected) values. This test assumes that the\n",
    "populations have identical variances by default\n",
    "\n",
    "- a, b : array_like\n",
    "    The arrays must have the same shape, except in the dimension\n",
    "    corresponding to `axis` (the first, by default).\n",
    "- axis : int or None, optional\n",
    "    Axis along which to compute test. If None, compute over the whole\n",
    "    arrays, `a`, and `b`.\n",
    "- equal_var : bool, optional\n",
    "    If True (default), perform a standard independent 2 sample test\n",
    "    that assumes equal population variances \n",
    "    If False, perform Welch's t-test, which does not assume equal\n",
    "    population variance \n",
    "- nan_policy : {'propagate', 'raise', 'omit'}, optional\n",
    "    Defines how to handle when input contains nan. 'propagate' returns nan,\n",
    "    'raise' throws an error, 'omit' performs the calculations ignoring nan\n",
    "    values. Default is 'propagate'.\n"
   ]
  },
  {
   "cell_type": "code",
   "execution_count": 19,
   "metadata": {},
   "outputs": [
    {
     "data": {
      "text/plain": [
       "Ttest_indResult(statistic=-0.19698073583418774, pvalue=0.8441328162608306)"
      ]
     },
     "execution_count": 19,
     "metadata": {},
     "output_type": "execute_result"
    }
   ],
   "source": [
    "st.ttest_ind(sampleofAccSalesData,sampleofAppSalesData,equal_var=False)  #at aplha =.05 (default)"
   ]
  },
  {
   "cell_type": "markdown",
   "metadata": {},
   "source": [
    "### Reject the Null Hypothesis"
   ]
  },
  {
   "cell_type": "markdown",
   "metadata": {},
   "source": [
    "## st.ttest_ind_from_stats\n",
    "\n",
    "T-test for means of two independent samples from descriptive statistics.\n",
    "\n",
    "This is a two-sided test for the null hypothesis that two independent samples have identical average (expected) values.\n",
    "\n",
    "- mean1 : array_like\n",
    "    The mean(s) of sample 1.\n",
    "- std1 : array_like\n",
    "    The standard deviation(s) of sample 1.\n",
    "- nobs1 : array_like\n",
    "    The number(s) of observations of sample 1.\n",
    "- mean2 : array_like\n",
    "    The mean(s) of sample 2\n",
    "- std2 : array_like\n",
    "    The standard deviations(s) of sample 2.\n",
    "- nobs2 : array_like\n",
    "    The number(s) of observations of sample 2.\n",
    "- equal_var : bool, optional\n",
    "    If True (default), perform a standard independent 2 sample test\n",
    "    that assumes equal population variances\n",
    "    If False, perform Welch's t-test, which does not assume equal\n",
    "    population variance"
   ]
  },
  {
   "cell_type": "code",
   "execution_count": 20,
   "metadata": {},
   "outputs": [],
   "source": [
    "mean1=sampleofAccSalesData.mean()\n",
    "std1=sampleofAccSalesData.std()\n",
    "nob1=len(sampleofAccSalesData)\n",
    "mean2=sampleofAppSalesData.mean()\n",
    "std2=sampleofAppSalesData.var()\n",
    "nob2=len(sampleofAppSalesData)"
   ]
  },
  {
   "cell_type": "code",
   "execution_count": 21,
   "metadata": {},
   "outputs": [
    {
     "data": {
      "text/plain": [
       "Ttest_indResult(statistic=-0.0006906277860818816, pvalue=0.9994499561469979)"
      ]
     },
     "execution_count": 21,
     "metadata": {},
     "output_type": "execute_result"
    }
   ],
   "source": [
    "st.ttest_ind_from_stats(mean1,\n",
    "    std1,\n",
    "    nob1,\n",
    "    mean2,\n",
    "    std2,\n",
    "    nob2,)"
   ]
  },
  {
   "cell_type": "code",
   "execution_count": null,
   "metadata": {},
   "outputs": [],
   "source": []
  },
  {
   "cell_type": "code",
   "execution_count": null,
   "metadata": {},
   "outputs": [],
   "source": []
  },
  {
   "cell_type": "code",
   "execution_count": null,
   "metadata": {},
   "outputs": [],
   "source": []
  },
  {
   "cell_type": "code",
   "execution_count": null,
   "metadata": {},
   "outputs": [],
   "source": []
  },
  {
   "cell_type": "code",
   "execution_count": null,
   "metadata": {},
   "outputs": [],
   "source": []
  },
  {
   "cell_type": "code",
   "execution_count": null,
   "metadata": {},
   "outputs": [],
   "source": []
  }
 ],
 "metadata": {
  "kernelspec": {
   "display_name": "Python 3",
   "language": "python",
   "name": "python3"
  },
  "language_info": {
   "codemirror_mode": {
    "name": "ipython",
    "version": 3
   },
   "file_extension": ".py",
   "mimetype": "text/x-python",
   "name": "python",
   "nbconvert_exporter": "python",
   "pygments_lexer": "ipython3",
   "version": "3.6.9"
  }
 },
 "nbformat": 4,
 "nbformat_minor": 2
}
