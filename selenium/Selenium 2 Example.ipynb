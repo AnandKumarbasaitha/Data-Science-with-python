{
 "cells": [
  {
   "cell_type": "markdown",
   "metadata": {},
   "source": [
    "Select a website\n",
    "    - http://example.webscraping.com/\n",
    "    - https://webscraper.io/test-sites"
   ]
  },
  {
   "cell_type": "code",
   "execution_count": 1,
   "metadata": {},
   "outputs": [],
   "source": [
    "import selenium\n",
    "from selenium import webdriver as wb\n",
    "webD=wb.Chrome('chromedriver.exe')\n",
    "webD.get('https://webscraper.io/test-sites/e-commerce/static')"
   ]
  },
  {
   "cell_type": "code",
   "execution_count": 2,
   "metadata": {},
   "outputs": [],
   "source": [
    "clickObj=webD.find_element_by_xpath('//*[@id=\"side-menu\"]/li[2]/a')"
   ]
  },
  {
   "cell_type": "code",
   "execution_count": 3,
   "metadata": {},
   "outputs": [],
   "source": [
    "clickObj.click()"
   ]
  },
  {
   "cell_type": "code",
   "execution_count": 4,
   "metadata": {},
   "outputs": [],
   "source": [
    "webD.find_element_by_xpath('//*[@id=\"side-menu\"]/li[2]/ul/li[1]/a').click()"
   ]
  },
  {
   "cell_type": "code",
   "execution_count": 5,
   "metadata": {},
   "outputs": [],
   "source": [
    "ll=webD.find_element_by_xpath('/html/body/div[1]/div[3]/div/div[2]/div')"
   ]
  },
  {
   "cell_type": "code",
   "execution_count": null,
   "metadata": {},
   "outputs": [],
   "source": [
    "productInfoList=webD.find_elements_by_class_name('thumbnail')"
   ]
  },
  {
   "cell_type": "code",
   "execution_count": null,
   "metadata": {},
   "outputs": [],
   "source": [
    "listOflinks=[]\n",
    "for el in productInfoList:\n",
    "    ppp1=el.find_elements_by_tag_name('h4')[-1]\n",
    "    pp2=ppp1.find_element_by_tag_name('a')\n",
    "    listOflinks.append(pp2.get_property('href'))"
   ]
  },
  {
   "cell_type": "code",
   "execution_count": 6,
   "metadata": {},
   "outputs": [],
   "source": [
    "listOflinks=[]\n",
    "condition=True\n",
    "while condition:\n",
    "    productInfoList=webD.find_elements_by_class_name('thumbnail')\n",
    "    for el in productInfoList:\n",
    "        ppp1=el.find_elements_by_tag_name('h4')[-1]\n",
    "        pp2=ppp1.find_element_by_tag_name('a')\n",
    "        listOflinks.append(pp2.get_property('href'))\n",
    "    try:\n",
    "#         webD.find_element_by_xpath('/html/body/div[1]/div[3]/div/div[2]/ul/li[13]/a').click()\n",
    "        webD.find_elements_by_class_name('page-link')[-1].click()\n",
    "    except:\n",
    "        condition=False\n"
   ]
  },
  {
   "cell_type": "code",
   "execution_count": 7,
   "metadata": {
    "scrolled": true
   },
   "outputs": [
    {
     "data": {
      "text/plain": [
       "240"
      ]
     },
     "execution_count": 7,
     "metadata": {},
     "output_type": "execute_result"
    }
   ],
   "source": [
    "len(listOflinks)"
   ]
  },
  {
   "cell_type": "code",
   "execution_count": 8,
   "metadata": {},
   "outputs": [
    {
     "data": {
      "text/plain": [
       "'https://webscraper.io/test-sites/e-commerce/static/product/222'"
      ]
     },
     "execution_count": 8,
     "metadata": {},
     "output_type": "execute_result"
    }
   ],
   "source": [
    "listOflinks[0]"
   ]
  },
  {
   "cell_type": "code",
   "execution_count": 15,
   "metadata": {},
   "outputs": [
    {
     "name": "stderr",
     "output_type": "stream",
     "text": [
      "  8%|███▍                                     | 20/240 [00:20<03:45,  1.03s/it]"
     ]
    },
    {
     "ename": "AttributeError",
     "evalue": "'NoneType' object has no attribute 'text'",
     "output_type": "error",
     "traceback": [
      "\u001b[1;31m---------------------------------------------------------------------------\u001b[0m",
      "\u001b[1;31mAttributeError\u001b[0m                            Traceback (most recent call last)",
      "\u001b[1;32m<ipython-input-15-2e5507eb806c>\u001b[0m in \u001b[0;36m<module>\u001b[1;34m\u001b[0m\n\u001b[0;32m      3\u001b[0m \u001b[1;32mfor\u001b[0m \u001b[0mi\u001b[0m \u001b[1;32min\u001b[0m \u001b[0mtqdm\u001b[0m\u001b[1;33m(\u001b[0m\u001b[0mlistOflinks\u001b[0m\u001b[1;33m)\u001b[0m\u001b[1;33m:\u001b[0m\u001b[1;33m\u001b[0m\u001b[1;33m\u001b[0m\u001b[0m\n\u001b[0;32m      4\u001b[0m     \u001b[0mwebD\u001b[0m\u001b[1;33m.\u001b[0m\u001b[0mget\u001b[0m\u001b[1;33m(\u001b[0m\u001b[0mi\u001b[0m\u001b[1;33m)\u001b[0m\u001b[1;33m\u001b[0m\u001b[1;33m\u001b[0m\u001b[0m\n\u001b[1;32m----> 5\u001b[1;33m     \u001b[0mnameoftheproduct\u001b[0m\u001b[1;33m=\u001b[0m\u001b[0mwebD\u001b[0m\u001b[1;33m.\u001b[0m\u001b[0mfind_element_by_xpath\u001b[0m\u001b[1;33m(\u001b[0m\u001b[1;34m'/html/body/div[1]/div[3]/div/div[2]/div/div/div[2]/div[1]/h4[2]'\u001b[0m\u001b[1;33m)\u001b[0m\u001b[1;33m.\u001b[0m\u001b[0mtext\u001b[0m\u001b[1;33m\u001b[0m\u001b[1;33m\u001b[0m\u001b[0m\n\u001b[0m\u001b[0;32m      6\u001b[0m     \u001b[0mdescriptionOfProduct\u001b[0m\u001b[1;33m=\u001b[0m\u001b[0mwebD\u001b[0m\u001b[1;33m.\u001b[0m\u001b[0mfind_element_by_xpath\u001b[0m\u001b[1;33m(\u001b[0m\u001b[1;34m'/html/body/div[1]/div[3]/div/div[2]/div/div/div[2]/div[1]/p'\u001b[0m\u001b[1;33m)\u001b[0m\u001b[1;33m.\u001b[0m\u001b[0mtext\u001b[0m\u001b[1;33m\u001b[0m\u001b[1;33m\u001b[0m\u001b[0m\n\u001b[0;32m      7\u001b[0m     \u001b[0mpriceProduct\u001b[0m\u001b[1;33m=\u001b[0m\u001b[0mwebD\u001b[0m\u001b[1;33m.\u001b[0m\u001b[0mfind_element_by_xpath\u001b[0m\u001b[1;33m(\u001b[0m\u001b[1;34m'/html/body/div[1]/div[3]/div/div[2]/div/div/div[2]/div[1]/h4[1]'\u001b[0m\u001b[1;33m)\u001b[0m\u001b[1;33m.\u001b[0m\u001b[0mtext\u001b[0m\u001b[1;33m\u001b[0m\u001b[1;33m\u001b[0m\u001b[0m\n",
      "\u001b[1;31mAttributeError\u001b[0m: 'NoneType' object has no attribute 'text'"
     ]
    }
   ],
   "source": [
    "from tqdm import tqdm\n",
    "alldetails=[]\n",
    "for i in tqdm(listOflinks):\n",
    "    webD.get(i)\n",
    "    nameoftheproduct=webD.find_element_by_xpath('/html/body/div[1]/div[3]/div/div[2]/div/div/div[2]/div[1]/h4[2]').text\n",
    "    descriptionOfProduct=webD.find_element_by_xpath('/html/body/div[1]/div[3]/div/div[2]/div/div/div[2]/div[1]/p').text\n",
    "    priceProduct=webD.find_element_by_xpath('/html/body/div[1]/div[3]/div/div[2]/div/div/div[2]/div[1]/h4[1]').text\n",
    "    reviewOftheProduct=webD.find_element_by_xpath('/html/body/div[1]/div[3]/div/div[2]/div/div/div[2]/div[2]/p').text\n",
    "    tempJ={'nameoftheproduct':nameoftheproduct,\n",
    "      'priceProduct':priceProduct,\n",
    "      'reviewOftheProduct':reviewOftheProduct,\n",
    "      'descriptionOfProduct':descriptionOfProduct,\n",
    "      'linkofProduct':i}\n",
    "    alldetails.append(tempJ)\n",
    "    "
   ]
  },
  {
   "cell_type": "code",
   "execution_count": 16,
   "metadata": {},
   "outputs": [],
   "source": [
    "import pandas as pd"
   ]
  },
  {
   "cell_type": "code",
   "execution_count": 17,
   "metadata": {},
   "outputs": [
    {
     "data": {
      "text/html": [
       "<div>\n",
       "<style scoped>\n",
       "    .dataframe tbody tr th:only-of-type {\n",
       "        vertical-align: middle;\n",
       "    }\n",
       "\n",
       "    .dataframe tbody tr th {\n",
       "        vertical-align: top;\n",
       "    }\n",
       "\n",
       "    .dataframe thead th {\n",
       "        text-align: right;\n",
       "    }\n",
       "</style>\n",
       "<table border=\"1\" class=\"dataframe\">\n",
       "  <thead>\n",
       "    <tr style=\"text-align: right;\">\n",
       "      <th></th>\n",
       "      <th>nameoftheproduct</th>\n",
       "      <th>priceProduct</th>\n",
       "      <th>reviewOftheProduct</th>\n",
       "      <th>descriptionOfProduct</th>\n",
       "      <th>linkofProduct</th>\n",
       "    </tr>\n",
       "  </thead>\n",
       "  <tbody>\n",
       "    <tr>\n",
       "      <th>0</th>\n",
       "      <td>Packard 255 G2</td>\n",
       "      <td>$416.99</td>\n",
       "      <td>2 reviews</td>\n",
       "      <td>15.6\", AMD E2-3800 1.3GHz, 4GB, 500GB, Windows...</td>\n",
       "      <td>https://webscraper.io/test-sites/e-commerce/st...</td>\n",
       "    </tr>\n",
       "    <tr>\n",
       "      <th>1</th>\n",
       "      <td>Aspire E1-510</td>\n",
       "      <td>$306.99</td>\n",
       "      <td>2 reviews</td>\n",
       "      <td>15.6\", Pentium N3520 2.16GHz, 4GB, 500GB, Linux</td>\n",
       "      <td>https://webscraper.io/test-sites/e-commerce/st...</td>\n",
       "    </tr>\n",
       "    <tr>\n",
       "      <th>2</th>\n",
       "      <td>ThinkPad T540p</td>\n",
       "      <td>$1178.99</td>\n",
       "      <td>2 reviews</td>\n",
       "      <td>15.6\", Core i5-4200M, 4GB, 500GB, Win7 Pro 64bit</td>\n",
       "      <td>https://webscraper.io/test-sites/e-commerce/st...</td>\n",
       "    </tr>\n",
       "    <tr>\n",
       "      <th>3</th>\n",
       "      <td>ProBook</td>\n",
       "      <td>$739.99</td>\n",
       "      <td>8 reviews</td>\n",
       "      <td>14\", Core i5 2.6GHz, 4GB, 500GB, Win7 Pro 64bit</td>\n",
       "      <td>https://webscraper.io/test-sites/e-commerce/st...</td>\n",
       "    </tr>\n",
       "    <tr>\n",
       "      <th>4</th>\n",
       "      <td>ThinkPad X240</td>\n",
       "      <td>$1311.99</td>\n",
       "      <td>12 reviews</td>\n",
       "      <td>12.5\", Core i5-4300U, 8GB, 240GB SSD, Win7 Pro...</td>\n",
       "      <td>https://webscraper.io/test-sites/e-commerce/st...</td>\n",
       "    </tr>\n",
       "    <tr>\n",
       "      <th>5</th>\n",
       "      <td>Aspire E1-572G</td>\n",
       "      <td>$581.99</td>\n",
       "      <td>2 reviews</td>\n",
       "      <td>15.6\", Core i5-4200U, 8GB, 1TB, Radeon R7 M265...</td>\n",
       "      <td>https://webscraper.io/test-sites/e-commerce/st...</td>\n",
       "    </tr>\n",
       "    <tr>\n",
       "      <th>6</th>\n",
       "      <td>ThinkPad Yoga</td>\n",
       "      <td>$1033.99</td>\n",
       "      <td>13 reviews</td>\n",
       "      <td>12.5\" Touch, Core i3-4010U, 4GB, 500GB + 16GB ...</td>\n",
       "      <td>https://webscraper.io/test-sites/e-commerce/st...</td>\n",
       "    </tr>\n",
       "    <tr>\n",
       "      <th>7</th>\n",
       "      <td>Pavilion</td>\n",
       "      <td>$609.99</td>\n",
       "      <td>4 reviews</td>\n",
       "      <td>15.6\", Core i5-4200U, 6GB, 750GB, Windows 8.1</td>\n",
       "      <td>https://webscraper.io/test-sites/e-commerce/st...</td>\n",
       "    </tr>\n",
       "    <tr>\n",
       "      <th>8</th>\n",
       "      <td>Inspiron 15</td>\n",
       "      <td>$745.99</td>\n",
       "      <td>12 reviews</td>\n",
       "      <td>Moon Silver, 15.6\", Core i7-4510U, 8GB, 1TB, R...</td>\n",
       "      <td>https://webscraper.io/test-sites/e-commerce/st...</td>\n",
       "    </tr>\n",
       "    <tr>\n",
       "      <th>9</th>\n",
       "      <td>Dell XPS 13</td>\n",
       "      <td>$1281.99</td>\n",
       "      <td>4 reviews</td>\n",
       "      <td>13.3\" Touch, Core i5-4210U, 8GB, 128GB SSD, Wi...</td>\n",
       "      <td>https://webscraper.io/test-sites/e-commerce/st...</td>\n",
       "    </tr>\n",
       "    <tr>\n",
       "      <th>10</th>\n",
       "      <td>ThinkPad X230</td>\n",
       "      <td>$1244.99</td>\n",
       "      <td>10 reviews</td>\n",
       "      <td>12.5\", Core i5 2.6GHz, 8GB, 180GB SSD, Win7 Pr...</td>\n",
       "      <td>https://webscraper.io/test-sites/e-commerce/st...</td>\n",
       "    </tr>\n",
       "    <tr>\n",
       "      <th>11</th>\n",
       "      <td></td>\n",
       "      <td>$520.99</td>\n",
       "      <td>13 reviews</td>\n",
       "      <td>15.6\", Core i5-4210U, 4GB, 500GB, Windows 8.1</td>\n",
       "      <td>https://webscraper.io/test-sites/e-commerce/st...</td>\n",
       "    </tr>\n",
       "    <tr>\n",
       "      <th>12</th>\n",
       "      <td>ThinkPad Yoga</td>\n",
       "      <td>$1223.99</td>\n",
       "      <td>2 reviews</td>\n",
       "      <td>12.5\" Touch, Core i5 4200U, 8GB, 500GB + 16GB ...</td>\n",
       "      <td>https://webscraper.io/test-sites/e-commerce/st...</td>\n",
       "    </tr>\n",
       "    <tr>\n",
       "      <th>13</th>\n",
       "      <td>HP 350 G1</td>\n",
       "      <td>$577.99</td>\n",
       "      <td>10 reviews</td>\n",
       "      <td>15.6\", Core i5-4200U, 4GB, 750GB, Radeon HD867...</td>\n",
       "      <td>https://webscraper.io/test-sites/e-commerce/st...</td>\n",
       "    </tr>\n",
       "    <tr>\n",
       "      <th>14</th>\n",
       "      <td>Asus VivoBook Max</td>\n",
       "      <td>$399.00</td>\n",
       "      <td>4 reviews</td>\n",
       "      <td>Asus VivoBook Max X541NA-GQ041 Black Chocolate...</td>\n",
       "      <td>https://webscraper.io/test-sites/e-commerce/st...</td>\n",
       "    </tr>\n",
       "    <tr>\n",
       "      <th>15</th>\n",
       "      <td>Dell Vostro 15</td>\n",
       "      <td>$488.78</td>\n",
       "      <td>14 reviews</td>\n",
       "      <td>Dell Vostro 15 (3568) Black, 15.6\" FHD, Core i...</td>\n",
       "      <td>https://webscraper.io/test-sites/e-commerce/st...</td>\n",
       "    </tr>\n",
       "    <tr>\n",
       "      <th>16</th>\n",
       "      <td>Acer Spin 5</td>\n",
       "      <td>$564.98</td>\n",
       "      <td>0 reviews</td>\n",
       "      <td>Acer Spin 5 SP513-51 Black, 13.3\" FHD Touch, C...</td>\n",
       "      <td>https://webscraper.io/test-sites/e-commerce/st...</td>\n",
       "    </tr>\n",
       "    <tr>\n",
       "      <th>17</th>\n",
       "      <td>Acer Aspire A515-51-5654</td>\n",
       "      <td>$679.00</td>\n",
       "      <td>9 reviews</td>\n",
       "      <td>Acer Aspire A515-51-5654, Black, 15.6\", FHD, C...</td>\n",
       "      <td>https://webscraper.io/test-sites/e-commerce/st...</td>\n",
       "    </tr>\n",
       "    <tr>\n",
       "      <th>18</th>\n",
       "      <td>Dell Inspiron 15</td>\n",
       "      <td>$679.00</td>\n",
       "      <td>7 reviews</td>\n",
       "      <td>Dell Inspiron 15 (5567) Fog Gray, 15.6\" FHD, C...</td>\n",
       "      <td>https://webscraper.io/test-sites/e-commerce/st...</td>\n",
       "    </tr>\n",
       "    <tr>\n",
       "      <th>19</th>\n",
       "      <td>Asus VivoBook S14</td>\n",
       "      <td>$729.00</td>\n",
       "      <td>2 reviews</td>\n",
       "      <td>Asus VivoBook S14 (S406UA-BV041T) Starry Grey,...</td>\n",
       "      <td>https://webscraper.io/test-sites/e-commerce/st...</td>\n",
       "    </tr>\n",
       "  </tbody>\n",
       "</table>\n",
       "</div>"
      ],
      "text/plain": [
       "            nameoftheproduct priceProduct reviewOftheProduct  \\\n",
       "0             Packard 255 G2      $416.99          2 reviews   \n",
       "1              Aspire E1-510      $306.99          2 reviews   \n",
       "2             ThinkPad T540p     $1178.99          2 reviews   \n",
       "3                    ProBook      $739.99          8 reviews   \n",
       "4              ThinkPad X240     $1311.99         12 reviews   \n",
       "5             Aspire E1-572G      $581.99          2 reviews   \n",
       "6              ThinkPad Yoga     $1033.99         13 reviews   \n",
       "7                   Pavilion      $609.99          4 reviews   \n",
       "8                Inspiron 15      $745.99         12 reviews   \n",
       "9                Dell XPS 13     $1281.99          4 reviews   \n",
       "10             ThinkPad X230     $1244.99         10 reviews   \n",
       "11                                $520.99         13 reviews   \n",
       "12             ThinkPad Yoga     $1223.99          2 reviews   \n",
       "13                 HP 350 G1      $577.99         10 reviews   \n",
       "14         Asus VivoBook Max      $399.00          4 reviews   \n",
       "15            Dell Vostro 15      $488.78         14 reviews   \n",
       "16               Acer Spin 5      $564.98          0 reviews   \n",
       "17  Acer Aspire A515-51-5654      $679.00          9 reviews   \n",
       "18          Dell Inspiron 15      $679.00          7 reviews   \n",
       "19         Asus VivoBook S14      $729.00          2 reviews   \n",
       "\n",
       "                                 descriptionOfProduct  \\\n",
       "0   15.6\", AMD E2-3800 1.3GHz, 4GB, 500GB, Windows...   \n",
       "1     15.6\", Pentium N3520 2.16GHz, 4GB, 500GB, Linux   \n",
       "2    15.6\", Core i5-4200M, 4GB, 500GB, Win7 Pro 64bit   \n",
       "3     14\", Core i5 2.6GHz, 4GB, 500GB, Win7 Pro 64bit   \n",
       "4   12.5\", Core i5-4300U, 8GB, 240GB SSD, Win7 Pro...   \n",
       "5   15.6\", Core i5-4200U, 8GB, 1TB, Radeon R7 M265...   \n",
       "6   12.5\" Touch, Core i3-4010U, 4GB, 500GB + 16GB ...   \n",
       "7       15.6\", Core i5-4200U, 6GB, 750GB, Windows 8.1   \n",
       "8   Moon Silver, 15.6\", Core i7-4510U, 8GB, 1TB, R...   \n",
       "9   13.3\" Touch, Core i5-4210U, 8GB, 128GB SSD, Wi...   \n",
       "10  12.5\", Core i5 2.6GHz, 8GB, 180GB SSD, Win7 Pr...   \n",
       "11      15.6\", Core i5-4210U, 4GB, 500GB, Windows 8.1   \n",
       "12  12.5\" Touch, Core i5 4200U, 8GB, 500GB + 16GB ...   \n",
       "13  15.6\", Core i5-4200U, 4GB, 750GB, Radeon HD867...   \n",
       "14  Asus VivoBook Max X541NA-GQ041 Black Chocolate...   \n",
       "15  Dell Vostro 15 (3568) Black, 15.6\" FHD, Core i...   \n",
       "16  Acer Spin 5 SP513-51 Black, 13.3\" FHD Touch, C...   \n",
       "17  Acer Aspire A515-51-5654, Black, 15.6\", FHD, C...   \n",
       "18  Dell Inspiron 15 (5567) Fog Gray, 15.6\" FHD, C...   \n",
       "19  Asus VivoBook S14 (S406UA-BV041T) Starry Grey,...   \n",
       "\n",
       "                                        linkofProduct  \n",
       "0   https://webscraper.io/test-sites/e-commerce/st...  \n",
       "1   https://webscraper.io/test-sites/e-commerce/st...  \n",
       "2   https://webscraper.io/test-sites/e-commerce/st...  \n",
       "3   https://webscraper.io/test-sites/e-commerce/st...  \n",
       "4   https://webscraper.io/test-sites/e-commerce/st...  \n",
       "5   https://webscraper.io/test-sites/e-commerce/st...  \n",
       "6   https://webscraper.io/test-sites/e-commerce/st...  \n",
       "7   https://webscraper.io/test-sites/e-commerce/st...  \n",
       "8   https://webscraper.io/test-sites/e-commerce/st...  \n",
       "9   https://webscraper.io/test-sites/e-commerce/st...  \n",
       "10  https://webscraper.io/test-sites/e-commerce/st...  \n",
       "11  https://webscraper.io/test-sites/e-commerce/st...  \n",
       "12  https://webscraper.io/test-sites/e-commerce/st...  \n",
       "13  https://webscraper.io/test-sites/e-commerce/st...  \n",
       "14  https://webscraper.io/test-sites/e-commerce/st...  \n",
       "15  https://webscraper.io/test-sites/e-commerce/st...  \n",
       "16  https://webscraper.io/test-sites/e-commerce/st...  \n",
       "17  https://webscraper.io/test-sites/e-commerce/st...  \n",
       "18  https://webscraper.io/test-sites/e-commerce/st...  \n",
       "19  https://webscraper.io/test-sites/e-commerce/st...  "
      ]
     },
     "execution_count": 17,
     "metadata": {},
     "output_type": "execute_result"
    }
   ],
   "source": [
    "pd.DataFrame(alldetails)"
   ]
  },
  {
   "cell_type": "code",
   "execution_count": null,
   "metadata": {},
   "outputs": [],
   "source": []
  },
  {
   "cell_type": "code",
   "execution_count": null,
   "metadata": {},
   "outputs": [],
   "source": []
  },
  {
   "cell_type": "code",
   "execution_count": null,
   "metadata": {},
   "outputs": [],
   "source": []
  },
  {
   "cell_type": "code",
   "execution_count": null,
   "metadata": {},
   "outputs": [],
   "source": []
  },
  {
   "cell_type": "code",
   "execution_count": 11,
   "metadata": {},
   "outputs": [],
   "source": [
    "nameoftheproduct=webD.find_element_by_xpath('/html/body/div[1]/div[3]/div/div[2]/div/div/div[2]/div[1]/h4[2]').text\n",
    "descriptionOfProduct=webD.find_element_by_xpath('/html/body/div[1]/div[3]/div/div[2]/div/div/div[2]/div[1]/p').text\n",
    "priceProduct=webD.find_element_by_xpath('/html/body/div[1]/div[3]/div/div[2]/div/div/div[2]/div[1]/h4[1]').text\n",
    "reviewOftheProduct=webD.find_element_by_xpath('/html/body/div[1]/div[3]/div/div[2]/div/div/div[2]/div[2]/p').text"
   ]
  },
  {
   "cell_type": "code",
   "execution_count": 12,
   "metadata": {},
   "outputs": [],
   "source": [
    "tempJ={'nameoftheproduct':nameoftheproduct,\n",
    "      'priceProduct':priceProduct,\n",
    "      'reviewOftheProduct':reviewOftheProduct,\n",
    "      'descriptionOfProduct':descriptionOfProduct,\n",
    "      'linkofProduct':''}"
   ]
  },
  {
   "cell_type": "code",
   "execution_count": 13,
   "metadata": {},
   "outputs": [
    {
     "data": {
      "text/plain": [
       "{'nameoftheproduct': 'Packard 255 G2',\n",
       " 'priceProduct': '$416.99',\n",
       " 'reviewOftheProduct': '2 reviews',\n",
       " 'descriptionOfProduct': '15.6\", AMD E2-3800 1.3GHz, 4GB, 500GB, Windows 8.1',\n",
       " 'linkofProduct': ''}"
      ]
     },
     "execution_count": 13,
     "metadata": {},
     "output_type": "execute_result"
    }
   ],
   "source": [
    "tempJ"
   ]
  },
  {
   "cell_type": "code",
   "execution_count": null,
   "metadata": {},
   "outputs": [],
   "source": []
  },
  {
   "cell_type": "code",
   "execution_count": null,
   "metadata": {},
   "outputs": [],
   "source": []
  },
  {
   "cell_type": "code",
   "execution_count": null,
   "metadata": {},
   "outputs": [],
   "source": []
  },
  {
   "cell_type": "code",
   "execution_count": null,
   "metadata": {},
   "outputs": [],
   "source": []
  },
  {
   "cell_type": "code",
   "execution_count": null,
   "metadata": {},
   "outputs": [],
   "source": []
  },
  {
   "cell_type": "code",
   "execution_count": null,
   "metadata": {},
   "outputs": [],
   "source": []
  },
  {
   "cell_type": "code",
   "execution_count": null,
   "metadata": {},
   "outputs": [],
   "source": [
    "webD.find_element_by_xpath('//*[@id=\"side-menu\"]/li[2]/a').click()"
   ]
  },
  {
   "cell_type": "code",
   "execution_count": null,
   "metadata": {},
   "outputs": [],
   "source": [
    "webD.find_element_by_xpath('//*[@id=\"side-menu\"]/li[2]/ul/li[1]/a').click()"
   ]
  },
  {
   "cell_type": "code",
   "execution_count": null,
   "metadata": {},
   "outputs": [],
   "source": [
    "allInfo=webD.find_elements_by_xpath('//*[@class=\"thumbnail\"]')"
   ]
  },
  {
   "cell_type": "code",
   "execution_count": null,
   "metadata": {},
   "outputs": [],
   "source": [
    "hrefLinkList=[]\n",
    "for eEle in allInfo:\n",
    "    hrefLink=eEle.find_elements_by_css_selector('h4')[-1].find_element_by_tag_name('a').get_property('href')\n",
    "    hrefLinkList.append(hrefLink)"
   ]
  },
  {
   "cell_type": "code",
   "execution_count": null,
   "metadata": {},
   "outputs": [],
   "source": [
    "hrefLinkList"
   ]
  },
  {
   "cell_type": "code",
   "execution_count": null,
   "metadata": {},
   "outputs": [],
   "source": [
    "pp=allInfo[0]"
   ]
  },
  {
   "cell_type": "code",
   "execution_count": null,
   "metadata": {},
   "outputs": [],
   "source": [
    "pp1=pp.find_elements_by_css_selector('h4')[-1]"
   ]
  },
  {
   "cell_type": "code",
   "execution_count": null,
   "metadata": {},
   "outputs": [],
   "source": [
    "pp1.find_element_by_tag_name('a').get_property('href')"
   ]
  },
  {
   "cell_type": "code",
   "execution_count": null,
   "metadata": {},
   "outputs": [],
   "source": [
    "webD.find_element_by_xpath('/html/body/div[1]/div[3]/div/div[2]/ul/li[13]/a').click()"
   ]
  },
  {
   "cell_type": "code",
   "execution_count": null,
   "metadata": {},
   "outputs": [],
   "source": [
    "# /html/body/div[1]/div[3]/div/div[2]/ul/li[14]/a\n",
    "# /html/body/div[1]/div[3]/div/div[2]/ul/li[14]/a"
   ]
  },
  {
   "cell_type": "code",
   "execution_count": null,
   "metadata": {},
   "outputs": [],
   "source": [
    "hrefLinkList=[]\n",
    "condition=True\n",
    "while condition:\n",
    "    allInfo=webD.find_elements_by_xpath('//*[@class=\"thumbnail\"]')\n",
    "    \n",
    "    for eEle in allInfo:\n",
    "        hrefLink=eEle.find_elements_by_css_selector('h4')[-1].find_element_by_tag_name('a').get_property('href')\n",
    "        hrefLinkList.append(hrefLink)\n",
    "    try:\n",
    "        webD.find_element_by_xpath('/html/body/div[1]/div[3]/div/div[2]/ul/li[13]/a').click()\n",
    "    except:\n",
    "        condition=False"
   ]
  },
  {
   "cell_type": "code",
   "execution_count": null,
   "metadata": {},
   "outputs": [],
   "source": [
    "hrefLinkList"
   ]
  },
  {
   "cell_type": "markdown",
   "metadata": {},
   "source": [
    "## Something is not right"
   ]
  },
  {
   "cell_type": "markdown",
   "metadata": {},
   "source": [
    "# Lets fix it"
   ]
  },
  {
   "cell_type": "code",
   "execution_count": null,
   "metadata": {},
   "outputs": [],
   "source": [
    "# pp=webD.find_elements_by_xpath('//*[@class=\"page-link\"]')#.click()"
   ]
  },
  {
   "cell_type": "code",
   "execution_count": null,
   "metadata": {},
   "outputs": [],
   "source": [
    "# pp[-1].click()"
   ]
  },
  {
   "cell_type": "code",
   "execution_count": null,
   "metadata": {},
   "outputs": [],
   "source": [
    "hrefLinkList=[]\n",
    "condition=True\n",
    "while condition:\n",
    "    allInfo=webD.find_elements_by_xpath('//*[@class=\"thumbnail\"]')\n",
    "    \n",
    "    for eEle in allInfo:\n",
    "        hrefLink=eEle.find_elements_by_css_selector('h4')[-1].find_element_by_tag_name('a').get_property('href')\n",
    "        hrefLinkList.append(hrefLink)\n",
    "    try:\n",
    "        webD.find_elements_by_xpath('//*[@class=\"page-link\"]')[-1].click()\n",
    "    except:\n",
    "        condition=False"
   ]
  },
  {
   "cell_type": "code",
   "execution_count": null,
   "metadata": {},
   "outputs": [],
   "source": [
    "len(hrefLinkList)"
   ]
  },
  {
   "cell_type": "code",
   "execution_count": null,
   "metadata": {},
   "outputs": [],
   "source": [
    "hrefLinkList[0]"
   ]
  },
  {
   "cell_type": "code",
   "execution_count": null,
   "metadata": {},
   "outputs": [],
   "source": [
    "webD.get(hrefLinkList[0])"
   ]
  },
  {
   "cell_type": "code",
   "execution_count": null,
   "metadata": {},
   "outputs": [],
   "source": [
    "nameOftheProduct=webD.find_element_by_xpath('/html/body/div[1]/div[3]/div/div[2]/div/div/div[2]/div[1]/h4[2]').text\n",
    "priceoftheProduct=webD.find_element_by_xpath('/html/body/div[1]/div[3]/div/div[2]/div/div/div[2]/div[1]/h4[1]').text\n",
    "descOfProduct=webD.find_element_by_xpath('/html/body/div[1]/div[3]/div/div[2]/div/div/div[2]/div[1]/p').text\n",
    "revOfProduct=webD.find_element_by_xpath('/html/body/div[1]/div[3]/div/div[2]/div/div/div[2]/div[2]/p').text\n"
   ]
  },
  {
   "cell_type": "code",
   "execution_count": null,
   "metadata": {},
   "outputs": [],
   "source": [
    "tempJ={'nameOftheProduct':nameOftheProduct,\n",
    "      'priceoftheProduct':priceoftheProduct,\n",
    "      'descOfProduct':descOfProduct,\n",
    "      'revOfProduct':revOfProduct}"
   ]
  },
  {
   "cell_type": "code",
   "execution_count": null,
   "metadata": {},
   "outputs": [],
   "source": [
    "from tqdm import tqdm\n",
    "overallinfo=[]\n",
    "for i in tqdm(hrefLinkList):\n",
    "    webD.get(i)\n",
    "    nameOftheProduct=webD.find_element_by_xpath('/html/body/div[1]/div[3]/div/div[2]/div/div/div[2]/div[1]/h4[2]').text\n",
    "    priceoftheProduct=webD.find_element_by_xpath('/html/body/div[1]/div[3]/div/div[2]/div/div/div[2]/div[1]/h4[1]').text\n",
    "    descOfProduct=webD.find_element_by_xpath('/html/body/div[1]/div[3]/div/div[2]/div/div/div[2]/div[1]/p').text\n",
    "    revOfProduct=webD.find_element_by_xpath('/html/body/div[1]/div[3]/div/div[2]/div/div/div[2]/div[2]/p').text\n",
    "    tempJ={'nameOftheProduct':nameOftheProduct,\n",
    "          'priceoftheProduct':priceoftheProduct,\n",
    "          'descOfProduct':descOfProduct,\n",
    "          'revOfProduct':revOfProduct,\n",
    "          'hyperlink':i}\n",
    "    overallinfo.append(tempJ)"
   ]
  },
  {
   "cell_type": "code",
   "execution_count": null,
   "metadata": {},
   "outputs": [],
   "source": [
    "import pandas as pd\n",
    "pd.DataFrame(overallinfo)"
   ]
  },
  {
   "cell_type": "code",
   "execution_count": null,
   "metadata": {},
   "outputs": [],
   "source": []
  }
 ],
 "metadata": {
  "kernelspec": {
   "display_name": "Python 3",
   "language": "python",
   "name": "python3"
  },
  "language_info": {
   "codemirror_mode": {
    "name": "ipython",
    "version": 3
   },
   "file_extension": ".py",
   "mimetype": "text/x-python",
   "name": "python",
   "nbconvert_exporter": "python",
   "pygments_lexer": "ipython3",
   "version": "3.6.9"
  }
 },
 "nbformat": 4,
 "nbformat_minor": 2
}
